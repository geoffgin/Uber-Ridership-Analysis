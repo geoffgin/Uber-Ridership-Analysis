{
 "cells": [
  {
   "cell_type": "markdown",
   "id": "82859aeb",
   "metadata": {},
   "source": [
    "## Uber Visualization Project\n",
    "\n",
    "Understanding How Uber Data and Trends Can Empower Business Decisions in New York City. <br>\n",
    "<br>\n",
    "Geoffrey Gin <br>\n",
    "Fairleigh Dickinson University<br>\n",
    "Department of Mathematics and Computer Science <br>\n",
    "Senior Project I & II<br>\n",
    "Fall 2022<br>\n",
    "\n",
    "Produced Under the Guidence of Dr. Neelu Sinha <br>"
   ]
  },
  {
   "cell_type": "markdown",
   "id": "25690bd0",
   "metadata": {},
   "source": [
    "----------------------------------------------------------------------------------------------------------------------"
   ]
  },
  {
   "cell_type": "markdown",
   "id": "d3c6a78d",
   "metadata": {},
   "source": [
    "Before we analyze our data, it is important to understand why it that Uber data matters. We imported this data set from kaggle which was able to obtain records from the New York City T&LC (Taxi and Limosine Commission) through a FOIA (Freedom of Information Act) request. <br>\n",
    "\n",
    "[Genertification](https://www.oxfordlearnersdictionaries.com/us/definition/english/gentrification#:~:text=%2F%CB%8Cd%CA%92entr%C9%AAf%C9%AA%CB%88ke%C9%AA%CA%83n%2F-,%2F%CB%8Cd%CA%92entr%C9%AAf%C9%AA%CB%88ke%C9%AA%CA%83n%2F,higher%20social%20class%20than%20before) (definition) is synamous with young, weathy, typically racially white individuals. [Uber](https://news.gallup.com/poll/237965/snapshot-uses-ride-sharing-services.aspx), similarly has a ridership or user base that falls into the same key aspects of individuals associated with gentrification. This is the perfect recipe when analyzing in New York City given the amount of young people in New York City that also have highly disposable incomes given the [median salary](https://www.glassdoor.com/Salaries/new-york-city-professional-salary-SRCH_IL.0,13_IM615_KO14,26.htm) of a working profession in New York City. <br>\n",
    "\n",
    "What this project seeks to accomplish is to not only prove the correlation between Uber ridership and gentrification. But more imporatly, how modeling these metrics can help businesses 'get ahead of the curve' and enter markets before there is a onslaught of competition. Additionally, New York City, as a global tourist destination, is home to many seasonal businesses that can benefit from information regarding the amount of people traveling to and within the city."
   ]
  },
  {
   "cell_type": "code",
   "execution_count": 21,
   "id": "00651371",
   "metadata": {},
   "outputs": [],
   "source": [
    "# importing all necessary libraries\n",
    "import numpy as np\n",
    "import pandas as pd\n",
    "import os\n",
    "import seaborn as sns\n",
    "import math\n",
    "\n",
    "import matplotlib.pyplot as plt\n",
    "import datashader as ds\n",
    "import colorcet as cc\n",
    "import folium\n",
    "\n",
    "\n",
    "from collections import defaultdict, OrderedDict\n",
    "from folium.plugins import HeatMapWithTime\n",
    "from datetime import datetime"
   ]
  },
  {
   "cell_type": "code",
   "execution_count": 22,
   "id": "a956bfce",
   "metadata": {},
   "outputs": [],
   "source": [
    "%matplotlib inline\n",
    "plt.style.use('ggplot')\n",
    "plt.rcParams['figure.figsize'] = (15,10)"
   ]
  },
  {
   "cell_type": "markdown",
   "id": "455f2adc",
   "metadata": {},
   "source": [
    "### Importing Files"
   ]
  },
  {
   "cell_type": "markdown",
   "id": "d19e381e",
   "metadata": {},
   "source": [
    "We use the `pandas` library in order to import each csv files using the command `pd.read_csv`. We can also use the concat functionality of the `pandas` library in order to combine the multiple csv files into one data frame. We do this by calling `pd.concat`."
   ]
  },
  {
   "cell_type": "code",
   "execution_count": 23,
   "id": "6a6008c7",
   "metadata": {},
   "outputs": [
    {
     "data": {
      "text/html": [
       "<div>\n",
       "<style scoped>\n",
       "    .dataframe tbody tr th:only-of-type {\n",
       "        vertical-align: middle;\n",
       "    }\n",
       "\n",
       "    .dataframe tbody tr th {\n",
       "        vertical-align: top;\n",
       "    }\n",
       "\n",
       "    .dataframe thead th {\n",
       "        text-align: right;\n",
       "    }\n",
       "</style>\n",
       "<table border=\"1\" class=\"dataframe\">\n",
       "  <thead>\n",
       "    <tr style=\"text-align: right;\">\n",
       "      <th></th>\n",
       "      <th>Date/Time</th>\n",
       "      <th>Lat</th>\n",
       "      <th>Lon</th>\n",
       "      <th>Base</th>\n",
       "    </tr>\n",
       "  </thead>\n",
       "  <tbody>\n",
       "    <tr>\n",
       "      <th>0</th>\n",
       "      <td>4/1/2014 0:11:00</td>\n",
       "      <td>40.7690</td>\n",
       "      <td>-73.9549</td>\n",
       "      <td>B02512</td>\n",
       "    </tr>\n",
       "    <tr>\n",
       "      <th>1</th>\n",
       "      <td>4/1/2014 0:17:00</td>\n",
       "      <td>40.7267</td>\n",
       "      <td>-74.0345</td>\n",
       "      <td>B02512</td>\n",
       "    </tr>\n",
       "  </tbody>\n",
       "</table>\n",
       "</div>"
      ],
      "text/plain": [
       "          Date/Time      Lat      Lon    Base\n",
       "0  4/1/2014 0:11:00  40.7690 -73.9549  B02512\n",
       "1  4/1/2014 0:17:00  40.7267 -74.0345  B02512"
      ]
     },
     "execution_count": 23,
     "metadata": {},
     "output_type": "execute_result"
    }
   ],
   "source": [
    "# Months in our csv files\n",
    "months = ['apr','may', 'jun', 'jul', 'aug', 'sep']\n",
    "\n",
    "# Creating a dataframe will our combined csv files\n",
    "df = pd.concat(map(pd.read_csv, ['uber-raw-data-apr14.csv', 'uber-raw-data-may14.csv','uber-raw-data-jun14.csv', 'uber-raw-data-jul14.csv', 'uber-raw-data-aug14.csv', 'uber-raw-data-sep14.csv']))\n",
    "\n",
    "# Calling the first 2 rows of our data frame to ensure our dataframe was created\n",
    "df.head(2)"
   ]
  },
  {
   "cell_type": "markdown",
   "id": "33dcc75c",
   "metadata": {},
   "source": [
    "By default, the values of the time in our csv files are not in the correct format, we must change their data type to datetime in order to work with these number properly."
   ]
  },
  {
   "cell_type": "code",
   "execution_count": 24,
   "id": "d893ae7f",
   "metadata": {},
   "outputs": [],
   "source": [
    "df['Date/Time'] = pd.to_datetime(df['Date/Time'])\n",
    "\n",
    "df['Month'] = df['Date/Time'].dt.month\n",
    "df['Day'] = df['Date/Time'].dt.day\n",
    "df['Time'] = df['Date/Time'].dt.time\n"
   ]
  },
  {
   "cell_type": "markdown",
   "id": "fc9a9747",
   "metadata": {},
   "source": [
    "Calling the front and back of our data frame in order to ensure that we can account for our entire imported data."
   ]
  },
  {
   "cell_type": "code",
   "execution_count": 25,
   "id": "e5064be0",
   "metadata": {},
   "outputs": [
    {
     "data": {
      "text/html": [
       "<div>\n",
       "<style scoped>\n",
       "    .dataframe tbody tr th:only-of-type {\n",
       "        vertical-align: middle;\n",
       "    }\n",
       "\n",
       "    .dataframe tbody tr th {\n",
       "        vertical-align: top;\n",
       "    }\n",
       "\n",
       "    .dataframe thead th {\n",
       "        text-align: right;\n",
       "    }\n",
       "</style>\n",
       "<table border=\"1\" class=\"dataframe\">\n",
       "  <thead>\n",
       "    <tr style=\"text-align: right;\">\n",
       "      <th></th>\n",
       "      <th>Date/Time</th>\n",
       "      <th>Lat</th>\n",
       "      <th>Lon</th>\n",
       "      <th>Base</th>\n",
       "      <th>Month</th>\n",
       "      <th>Day</th>\n",
       "      <th>Time</th>\n",
       "    </tr>\n",
       "  </thead>\n",
       "  <tbody>\n",
       "    <tr>\n",
       "      <th>0</th>\n",
       "      <td>2014-04-01 00:11:00</td>\n",
       "      <td>40.7690</td>\n",
       "      <td>-73.9549</td>\n",
       "      <td>B02512</td>\n",
       "      <td>4</td>\n",
       "      <td>1</td>\n",
       "      <td>00:11:00</td>\n",
       "    </tr>\n",
       "    <tr>\n",
       "      <th>1</th>\n",
       "      <td>2014-04-01 00:17:00</td>\n",
       "      <td>40.7267</td>\n",
       "      <td>-74.0345</td>\n",
       "      <td>B02512</td>\n",
       "      <td>4</td>\n",
       "      <td>1</td>\n",
       "      <td>00:17:00</td>\n",
       "    </tr>\n",
       "  </tbody>\n",
       "</table>\n",
       "</div>"
      ],
      "text/plain": [
       "            Date/Time      Lat      Lon    Base  Month  Day      Time\n",
       "0 2014-04-01 00:11:00  40.7690 -73.9549  B02512      4    1  00:11:00\n",
       "1 2014-04-01 00:17:00  40.7267 -74.0345  B02512      4    1  00:17:00"
      ]
     },
     "execution_count": 25,
     "metadata": {},
     "output_type": "execute_result"
    }
   ],
   "source": [
    "df.head(2)"
   ]
  },
  {
   "cell_type": "code",
   "execution_count": 26,
   "id": "fa4658ac",
   "metadata": {},
   "outputs": [
    {
     "data": {
      "text/html": [
       "<div>\n",
       "<style scoped>\n",
       "    .dataframe tbody tr th:only-of-type {\n",
       "        vertical-align: middle;\n",
       "    }\n",
       "\n",
       "    .dataframe tbody tr th {\n",
       "        vertical-align: top;\n",
       "    }\n",
       "\n",
       "    .dataframe thead th {\n",
       "        text-align: right;\n",
       "    }\n",
       "</style>\n",
       "<table border=\"1\" class=\"dataframe\">\n",
       "  <thead>\n",
       "    <tr style=\"text-align: right;\">\n",
       "      <th></th>\n",
       "      <th>Date/Time</th>\n",
       "      <th>Lat</th>\n",
       "      <th>Lon</th>\n",
       "      <th>Base</th>\n",
       "      <th>Month</th>\n",
       "      <th>Day</th>\n",
       "      <th>Time</th>\n",
       "    </tr>\n",
       "  </thead>\n",
       "  <tbody>\n",
       "    <tr>\n",
       "      <th>1028134</th>\n",
       "      <td>2014-09-30 22:58:00</td>\n",
       "      <td>40.7081</td>\n",
       "      <td>-74.0066</td>\n",
       "      <td>B02764</td>\n",
       "      <td>9</td>\n",
       "      <td>30</td>\n",
       "      <td>22:58:00</td>\n",
       "    </tr>\n",
       "    <tr>\n",
       "      <th>1028135</th>\n",
       "      <td>2014-09-30 22:58:00</td>\n",
       "      <td>40.7140</td>\n",
       "      <td>-73.9496</td>\n",
       "      <td>B02764</td>\n",
       "      <td>9</td>\n",
       "      <td>30</td>\n",
       "      <td>22:58:00</td>\n",
       "    </tr>\n",
       "  </tbody>\n",
       "</table>\n",
       "</div>"
      ],
      "text/plain": [
       "                  Date/Time      Lat      Lon    Base  Month  Day      Time\n",
       "1028134 2014-09-30 22:58:00  40.7081 -74.0066  B02764      9   30  22:58:00\n",
       "1028135 2014-09-30 22:58:00  40.7140 -73.9496  B02764      9   30  22:58:00"
      ]
     },
     "execution_count": 26,
     "metadata": {},
     "output_type": "execute_result"
    }
   ],
   "source": [
    "df.tail(2)"
   ]
  },
  {
   "cell_type": "markdown",
   "id": "13661697",
   "metadata": {},
   "source": [
    "Creates a new column of day of the week, and hour of the day. This is important for further analysis down the road."
   ]
  },
  {
   "cell_type": "code",
   "execution_count": 27,
   "id": "0c07d763",
   "metadata": {},
   "outputs": [],
   "source": [
    "# Day of the week\n",
    "df['Weekday'] = df['Date/Time'].dt.dayofweek\n",
    "\n",
    "# Hour\n",
    "df['Hour'] = df['Date/Time'].dt.hour\n"
   ]
  },
  {
   "cell_type": "code",
   "execution_count": 28,
   "id": "c8db28e9",
   "metadata": {},
   "outputs": [
    {
     "data": {
      "text/html": [
       "<div>\n",
       "<style scoped>\n",
       "    .dataframe tbody tr th:only-of-type {\n",
       "        vertical-align: middle;\n",
       "    }\n",
       "\n",
       "    .dataframe tbody tr th {\n",
       "        vertical-align: top;\n",
       "    }\n",
       "\n",
       "    .dataframe thead th {\n",
       "        text-align: right;\n",
       "    }\n",
       "</style>\n",
       "<table border=\"1\" class=\"dataframe\">\n",
       "  <thead>\n",
       "    <tr style=\"text-align: right;\">\n",
       "      <th></th>\n",
       "      <th>Date/Time</th>\n",
       "      <th>Lat</th>\n",
       "      <th>Lon</th>\n",
       "      <th>Base</th>\n",
       "      <th>Month</th>\n",
       "      <th>Day</th>\n",
       "      <th>Time</th>\n",
       "      <th>Weekday</th>\n",
       "      <th>Hour</th>\n",
       "    </tr>\n",
       "  </thead>\n",
       "  <tbody>\n",
       "    <tr>\n",
       "      <th>0</th>\n",
       "      <td>2014-04-01 00:11:00</td>\n",
       "      <td>40.7690</td>\n",
       "      <td>-73.9549</td>\n",
       "      <td>B02512</td>\n",
       "      <td>4</td>\n",
       "      <td>1</td>\n",
       "      <td>00:11:00</td>\n",
       "      <td>1</td>\n",
       "      <td>0</td>\n",
       "    </tr>\n",
       "    <tr>\n",
       "      <th>1</th>\n",
       "      <td>2014-04-01 00:17:00</td>\n",
       "      <td>40.7267</td>\n",
       "      <td>-74.0345</td>\n",
       "      <td>B02512</td>\n",
       "      <td>4</td>\n",
       "      <td>1</td>\n",
       "      <td>00:17:00</td>\n",
       "      <td>1</td>\n",
       "      <td>0</td>\n",
       "    </tr>\n",
       "  </tbody>\n",
       "</table>\n",
       "</div>"
      ],
      "text/plain": [
       "            Date/Time      Lat      Lon    Base  Month  Day      Time  \\\n",
       "0 2014-04-01 00:11:00  40.7690 -73.9549  B02512      4    1  00:11:00   \n",
       "1 2014-04-01 00:17:00  40.7267 -74.0345  B02512      4    1  00:17:00   \n",
       "\n",
       "   Weekday  Hour  \n",
       "0        1     0  \n",
       "1        1     0  "
      ]
     },
     "execution_count": 28,
     "metadata": {},
     "output_type": "execute_result"
    }
   ],
   "source": [
    "df.head(2)"
   ]
  },
  {
   "cell_type": "code",
   "execution_count": 29,
   "id": "728b34e8",
   "metadata": {},
   "outputs": [
    {
     "data": {
      "text/html": [
       "<div>\n",
       "<style scoped>\n",
       "    .dataframe tbody tr th:only-of-type {\n",
       "        vertical-align: middle;\n",
       "    }\n",
       "\n",
       "    .dataframe tbody tr th {\n",
       "        vertical-align: top;\n",
       "    }\n",
       "\n",
       "    .dataframe thead th {\n",
       "        text-align: right;\n",
       "    }\n",
       "</style>\n",
       "<table border=\"1\" class=\"dataframe\">\n",
       "  <thead>\n",
       "    <tr style=\"text-align: right;\">\n",
       "      <th></th>\n",
       "      <th>Date/Time</th>\n",
       "      <th>Lat</th>\n",
       "      <th>Lon</th>\n",
       "      <th>Base</th>\n",
       "      <th>Month</th>\n",
       "      <th>Day</th>\n",
       "      <th>Time</th>\n",
       "      <th>Weekday</th>\n",
       "      <th>Hour</th>\n",
       "    </tr>\n",
       "  </thead>\n",
       "  <tbody>\n",
       "    <tr>\n",
       "      <th>1028134</th>\n",
       "      <td>2014-09-30 22:58:00</td>\n",
       "      <td>40.7081</td>\n",
       "      <td>-74.0066</td>\n",
       "      <td>B02764</td>\n",
       "      <td>9</td>\n",
       "      <td>30</td>\n",
       "      <td>22:58:00</td>\n",
       "      <td>1</td>\n",
       "      <td>22</td>\n",
       "    </tr>\n",
       "    <tr>\n",
       "      <th>1028135</th>\n",
       "      <td>2014-09-30 22:58:00</td>\n",
       "      <td>40.7140</td>\n",
       "      <td>-73.9496</td>\n",
       "      <td>B02764</td>\n",
       "      <td>9</td>\n",
       "      <td>30</td>\n",
       "      <td>22:58:00</td>\n",
       "      <td>1</td>\n",
       "      <td>22</td>\n",
       "    </tr>\n",
       "  </tbody>\n",
       "</table>\n",
       "</div>"
      ],
      "text/plain": [
       "                  Date/Time      Lat      Lon    Base  Month  Day      Time  \\\n",
       "1028134 2014-09-30 22:58:00  40.7081 -74.0066  B02764      9   30  22:58:00   \n",
       "1028135 2014-09-30 22:58:00  40.7140 -73.9496  B02764      9   30  22:58:00   \n",
       "\n",
       "         Weekday  Hour  \n",
       "1028134        1    22  \n",
       "1028135        1    22  "
      ]
     },
     "execution_count": 29,
     "metadata": {},
     "output_type": "execute_result"
    }
   ],
   "source": [
    "df.tail(2)"
   ]
  },
  {
   "cell_type": "markdown",
   "id": "d0f6290f",
   "metadata": {},
   "source": [
    "The code below is used to convert the integer values of our columns into the days and months. This is for greater reabaility of the data and is an important step for cleansing our data."
   ]
  },
  {
   "cell_type": "code",
   "execution_count": 30,
   "id": "c2afeebe",
   "metadata": {},
   "outputs": [],
   "source": [
    "# Map month\n",
    "month_map = {\n",
    "    4: 'April',\n",
    "    5: 'May',\n",
    "    6: 'June', \n",
    "    7: 'July',\n",
    "    8: 'August',\n",
    "    9: 'September'\n",
    "}\n",
    "df['Month'] = df['Month'].replace(month_map)\n",
    "\n",
    "# Map weekday\n",
    "weekday_map = {\n",
    "    0: 'Monday',\n",
    "    1: 'Tuesday',\n",
    "    2: 'Wednesday',\n",
    "    3: 'Thursday', \n",
    "    4: 'Friday', \n",
    "    5: 'Saturday',\n",
    "    6: 'Sunday'\n",
    "}\n",
    "df['Weekday'] = df['Weekday'].replace(weekday_map)\n",
    "\n",
    "final_columns = [\n",
    "    'Base', 'Lat', 'Lon', 'Month', \n",
    "    'Day', 'Weekday', 'Hour']\n",
    "df = df[final_columns]"
   ]
  },
  {
   "cell_type": "code",
   "execution_count": 31,
   "id": "8fbc8b12",
   "metadata": {},
   "outputs": [
    {
     "data": {
      "text/html": [
       "<div>\n",
       "<style scoped>\n",
       "    .dataframe tbody tr th:only-of-type {\n",
       "        vertical-align: middle;\n",
       "    }\n",
       "\n",
       "    .dataframe tbody tr th {\n",
       "        vertical-align: top;\n",
       "    }\n",
       "\n",
       "    .dataframe thead th {\n",
       "        text-align: right;\n",
       "    }\n",
       "</style>\n",
       "<table border=\"1\" class=\"dataframe\">\n",
       "  <thead>\n",
       "    <tr style=\"text-align: right;\">\n",
       "      <th></th>\n",
       "      <th>Base</th>\n",
       "      <th>Lat</th>\n",
       "      <th>Lon</th>\n",
       "      <th>Month</th>\n",
       "      <th>Day</th>\n",
       "      <th>Weekday</th>\n",
       "      <th>Hour</th>\n",
       "    </tr>\n",
       "  </thead>\n",
       "  <tbody>\n",
       "    <tr>\n",
       "      <th>0</th>\n",
       "      <td>B02512</td>\n",
       "      <td>40.7690</td>\n",
       "      <td>-73.9549</td>\n",
       "      <td>April</td>\n",
       "      <td>1</td>\n",
       "      <td>Tuesday</td>\n",
       "      <td>0</td>\n",
       "    </tr>\n",
       "    <tr>\n",
       "      <th>1</th>\n",
       "      <td>B02512</td>\n",
       "      <td>40.7267</td>\n",
       "      <td>-74.0345</td>\n",
       "      <td>April</td>\n",
       "      <td>1</td>\n",
       "      <td>Tuesday</td>\n",
       "      <td>0</td>\n",
       "    </tr>\n",
       "  </tbody>\n",
       "</table>\n",
       "</div>"
      ],
      "text/plain": [
       "     Base      Lat      Lon  Month  Day  Weekday  Hour\n",
       "0  B02512  40.7690 -73.9549  April    1  Tuesday     0\n",
       "1  B02512  40.7267 -74.0345  April    1  Tuesday     0"
      ]
     },
     "execution_count": 31,
     "metadata": {},
     "output_type": "execute_result"
    }
   ],
   "source": [
    "df.head(2)"
   ]
  },
  {
   "cell_type": "code",
   "execution_count": 32,
   "id": "fe3a5f3e",
   "metadata": {},
   "outputs": [
    {
     "data": {
      "text/html": [
       "<div>\n",
       "<style scoped>\n",
       "    .dataframe tbody tr th:only-of-type {\n",
       "        vertical-align: middle;\n",
       "    }\n",
       "\n",
       "    .dataframe tbody tr th {\n",
       "        vertical-align: top;\n",
       "    }\n",
       "\n",
       "    .dataframe thead th {\n",
       "        text-align: right;\n",
       "    }\n",
       "</style>\n",
       "<table border=\"1\" class=\"dataframe\">\n",
       "  <thead>\n",
       "    <tr style=\"text-align: right;\">\n",
       "      <th></th>\n",
       "      <th>Base</th>\n",
       "      <th>Lat</th>\n",
       "      <th>Lon</th>\n",
       "      <th>Month</th>\n",
       "      <th>Day</th>\n",
       "      <th>Weekday</th>\n",
       "      <th>Hour</th>\n",
       "    </tr>\n",
       "  </thead>\n",
       "  <tbody>\n",
       "    <tr>\n",
       "      <th>1028134</th>\n",
       "      <td>B02764</td>\n",
       "      <td>40.7081</td>\n",
       "      <td>-74.0066</td>\n",
       "      <td>September</td>\n",
       "      <td>30</td>\n",
       "      <td>Tuesday</td>\n",
       "      <td>22</td>\n",
       "    </tr>\n",
       "    <tr>\n",
       "      <th>1028135</th>\n",
       "      <td>B02764</td>\n",
       "      <td>40.7140</td>\n",
       "      <td>-73.9496</td>\n",
       "      <td>September</td>\n",
       "      <td>30</td>\n",
       "      <td>Tuesday</td>\n",
       "      <td>22</td>\n",
       "    </tr>\n",
       "  </tbody>\n",
       "</table>\n",
       "</div>"
      ],
      "text/plain": [
       "           Base      Lat      Lon      Month  Day  Weekday  Hour\n",
       "1028134  B02764  40.7081 -74.0066  September   30  Tuesday    22\n",
       "1028135  B02764  40.7140 -73.9496  September   30  Tuesday    22"
      ]
     },
     "execution_count": 32,
     "metadata": {},
     "output_type": "execute_result"
    }
   ],
   "source": [
    "df.tail(2)"
   ]
  },
  {
   "cell_type": "code",
   "execution_count": 33,
   "id": "5865d889",
   "metadata": {},
   "outputs": [
    {
     "name": "stdout",
     "output_type": "stream",
     "text": [
      "Number of missing values: 0\n"
     ]
    }
   ],
   "source": [
    "num_missing = df.isnull().sum().sum()\n",
    "print('Number of missing values: {}'.format(num_missing))"
   ]
  },
  {
   "cell_type": "markdown",
   "id": "72fdaa4d",
   "metadata": {},
   "source": [
    "The next two cells are designed to validate the information in our data frame. This is an important step of data cleansing where we validate our information inside the data frame before we begin to model it."
   ]
  },
  {
   "cell_type": "code",
   "execution_count": 34,
   "id": "c618e8d8",
   "metadata": {},
   "outputs": [
    {
     "name": "stdout",
     "output_type": "stream",
     "text": [
      "All value ranges valid.\n"
     ]
    },
    {
     "name": "stderr",
     "output_type": "stream",
     "text": [
      "/var/folders/yq/r4wft_212bzfzdmq6lc7_2mm0000gn/T/ipykernel_10549/614131677.py:2: FutureWarning: Boolean inputs to the `inclusive` argument are deprecated in favour of `both` or `neither`.\n",
      "  lat_check = df['Lat'].between(-90, 90, inclusive=True).all()\n",
      "/var/folders/yq/r4wft_212bzfzdmq6lc7_2mm0000gn/T/ipykernel_10549/614131677.py:6: FutureWarning: Boolean inputs to the `inclusive` argument are deprecated in favour of `both` or `neither`.\n",
      "  lon_check = df['Lon'].between(-180, 180, inclusive=True).all()\n",
      "/var/folders/yq/r4wft_212bzfzdmq6lc7_2mm0000gn/T/ipykernel_10549/614131677.py:10: FutureWarning: Boolean inputs to the `inclusive` argument are deprecated in favour of `both` or `neither`.\n",
      "  hour_check = df['Hour'].between(0, 23, inclusive=True).all()\n",
      "/var/folders/yq/r4wft_212bzfzdmq6lc7_2mm0000gn/T/ipykernel_10549/614131677.py:14: FutureWarning: Boolean inputs to the `inclusive` argument are deprecated in favour of `both` or `neither`.\n",
      "  day_check = df['Day'].between(1, 31, inclusive=True).all()\n"
     ]
    }
   ],
   "source": [
    "# Latitude must be between -90 and 90\n",
    "lat_check = df['Lat'].between(-90, 90, inclusive=True).all()\n",
    "assert lat_check, 'Invalid latitude values exist'\n",
    "\n",
    "# Longitude must be between -180 and 180\n",
    "lon_check = df['Lon'].between(-180, 180, inclusive=True).all()\n",
    "assert lon_check, 'Invalid longitude values exist'\n",
    "\n",
    "# Hour must be between 0 and 23\n",
    "hour_check = df['Hour'].between(0, 23, inclusive=True).all()\n",
    "assert hour_check, 'Invalid hour values exist'\n",
    "\n",
    "# Day must be between 1 and 31\n",
    "day_check = df['Day'].between(1, 31, inclusive=True).all()\n",
    "assert day_check, 'Invalid day values exist'\n",
    "\n",
    "print('All value ranges valid.')"
   ]
  },
  {
   "cell_type": "code",
   "execution_count": 35,
   "id": "4335300a",
   "metadata": {},
   "outputs": [
    {
     "name": "stdout",
     "output_type": "stream",
     "text": [
      "Value categories valid.\n"
     ]
    }
   ],
   "source": [
    "# Months must be between 4 and 9\n",
    "month_check = not set(df['Month']).difference(month_map.values())\n",
    "assert month_check, 'Invalid Month values'\n",
    "\n",
    "weekday_check = not set(df['Weekday']).difference(weekday_map.values())\n",
    "assert weekday_check, 'Invalid Weekday values'\n",
    "\n",
    "print('Value categories valid.')"
   ]
  },
  {
   "cell_type": "code",
   "execution_count": 36,
   "id": "ecb78c50",
   "metadata": {},
   "outputs": [
    {
     "data": {
      "text/html": [
       "<div>\n",
       "<style scoped>\n",
       "    .dataframe tbody tr th:only-of-type {\n",
       "        vertical-align: middle;\n",
       "    }\n",
       "\n",
       "    .dataframe tbody tr th {\n",
       "        vertical-align: top;\n",
       "    }\n",
       "\n",
       "    .dataframe thead th {\n",
       "        text-align: right;\n",
       "    }\n",
       "</style>\n",
       "<table border=\"1\" class=\"dataframe\">\n",
       "  <thead>\n",
       "    <tr style=\"text-align: right;\">\n",
       "      <th></th>\n",
       "      <th>Base</th>\n",
       "      <th>Lat</th>\n",
       "      <th>Lon</th>\n",
       "      <th>Month</th>\n",
       "      <th>Day</th>\n",
       "      <th>Weekday</th>\n",
       "      <th>Hour</th>\n",
       "    </tr>\n",
       "  </thead>\n",
       "  <tbody>\n",
       "    <tr>\n",
       "      <th>43</th>\n",
       "      <td>B02512</td>\n",
       "      <td>40.7430</td>\n",
       "      <td>-74.0301</td>\n",
       "      <td>April</td>\n",
       "      <td>1</td>\n",
       "      <td>Tuesday</td>\n",
       "      <td>5</td>\n",
       "    </tr>\n",
       "    <tr>\n",
       "      <th>44</th>\n",
       "      <td>B02512</td>\n",
       "      <td>40.7430</td>\n",
       "      <td>-74.0301</td>\n",
       "      <td>April</td>\n",
       "      <td>1</td>\n",
       "      <td>Tuesday</td>\n",
       "      <td>5</td>\n",
       "    </tr>\n",
       "    <tr>\n",
       "      <th>127</th>\n",
       "      <td>B02512</td>\n",
       "      <td>40.7805</td>\n",
       "      <td>-73.9481</td>\n",
       "      <td>April</td>\n",
       "      <td>1</td>\n",
       "      <td>Tuesday</td>\n",
       "      <td>7</td>\n",
       "    </tr>\n",
       "    <tr>\n",
       "      <th>128</th>\n",
       "      <td>B02512</td>\n",
       "      <td>40.7805</td>\n",
       "      <td>-73.9481</td>\n",
       "      <td>April</td>\n",
       "      <td>1</td>\n",
       "      <td>Tuesday</td>\n",
       "      <td>7</td>\n",
       "    </tr>\n",
       "    <tr>\n",
       "      <th>184</th>\n",
       "      <td>B02512</td>\n",
       "      <td>40.7620</td>\n",
       "      <td>-73.9787</td>\n",
       "      <td>April</td>\n",
       "      <td>1</td>\n",
       "      <td>Tuesday</td>\n",
       "      <td>8</td>\n",
       "    </tr>\n",
       "    <tr>\n",
       "      <th>...</th>\n",
       "      <td>...</td>\n",
       "      <td>...</td>\n",
       "      <td>...</td>\n",
       "      <td>...</td>\n",
       "      <td>...</td>\n",
       "      <td>...</td>\n",
       "      <td>...</td>\n",
       "    </tr>\n",
       "    <tr>\n",
       "      <th>1028065</th>\n",
       "      <td>B02764</td>\n",
       "      <td>40.7714</td>\n",
       "      <td>-73.9502</td>\n",
       "      <td>September</td>\n",
       "      <td>30</td>\n",
       "      <td>Tuesday</td>\n",
       "      <td>22</td>\n",
       "    </tr>\n",
       "    <tr>\n",
       "      <th>1028094</th>\n",
       "      <td>B02764</td>\n",
       "      <td>40.7277</td>\n",
       "      <td>-73.9893</td>\n",
       "      <td>September</td>\n",
       "      <td>30</td>\n",
       "      <td>Tuesday</td>\n",
       "      <td>22</td>\n",
       "    </tr>\n",
       "    <tr>\n",
       "      <th>1028095</th>\n",
       "      <td>B02764</td>\n",
       "      <td>40.7277</td>\n",
       "      <td>-73.9893</td>\n",
       "      <td>September</td>\n",
       "      <td>30</td>\n",
       "      <td>Tuesday</td>\n",
       "      <td>22</td>\n",
       "    </tr>\n",
       "    <tr>\n",
       "      <th>1028099</th>\n",
       "      <td>B02764</td>\n",
       "      <td>40.7212</td>\n",
       "      <td>-74.0048</td>\n",
       "      <td>September</td>\n",
       "      <td>30</td>\n",
       "      <td>Tuesday</td>\n",
       "      <td>22</td>\n",
       "    </tr>\n",
       "    <tr>\n",
       "      <th>1028100</th>\n",
       "      <td>B02764</td>\n",
       "      <td>40.7212</td>\n",
       "      <td>-74.0048</td>\n",
       "      <td>September</td>\n",
       "      <td>30</td>\n",
       "      <td>Tuesday</td>\n",
       "      <td>22</td>\n",
       "    </tr>\n",
       "  </tbody>\n",
       "</table>\n",
       "<p>222774 rows × 7 columns</p>\n",
       "</div>"
      ],
      "text/plain": [
       "           Base      Lat      Lon      Month  Day  Weekday  Hour\n",
       "43       B02512  40.7430 -74.0301      April    1  Tuesday     5\n",
       "44       B02512  40.7430 -74.0301      April    1  Tuesday     5\n",
       "127      B02512  40.7805 -73.9481      April    1  Tuesday     7\n",
       "128      B02512  40.7805 -73.9481      April    1  Tuesday     7\n",
       "184      B02512  40.7620 -73.9787      April    1  Tuesday     8\n",
       "...         ...      ...      ...        ...  ...      ...   ...\n",
       "1028065  B02764  40.7714 -73.9502  September   30  Tuesday    22\n",
       "1028094  B02764  40.7277 -73.9893  September   30  Tuesday    22\n",
       "1028095  B02764  40.7277 -73.9893  September   30  Tuesday    22\n",
       "1028099  B02764  40.7212 -74.0048  September   30  Tuesday    22\n",
       "1028100  B02764  40.7212 -74.0048  September   30  Tuesday    22\n",
       "\n",
       "[222774 rows x 7 columns]"
      ]
     },
     "execution_count": 36,
     "metadata": {},
     "output_type": "execute_result"
    }
   ],
   "source": [
    "duplicate_pickups = df[df.duplicated(keep=False)]\n",
    "duplicate_pickups"
   ]
  },
  {
   "cell_type": "code",
   "execution_count": 37,
   "id": "8994be1d",
   "metadata": {},
   "outputs": [
    {
     "name": "stdout",
     "output_type": "stream",
     "text": [
      "Number of Pickups: 4534327\n",
      "Number of Days: 183\n",
      "Avg Daily Pickups: 24778.0\n"
     ]
    }
   ],
   "source": [
    "num_pickups = df.shape[0]\n",
    "num_days = len(df[['Month', 'Day']].drop_duplicates())\n",
    "daily_avg = np.round(num_pickups/num_days, 0)\n",
    "\n",
    "stats_raw = 'Number of Pickups: {}\\nNumber of Days: {}\\nAvg Daily Pickups: {}'\n",
    "print(stats_raw.format(num_pickups, num_days, daily_avg))"
   ]
  },
  {
   "cell_type": "markdown",
   "id": "1f730a01",
   "metadata": {},
   "source": [
    "The code below takes data from [Gallup](https://news.gallup.com/poll/237965/snapshot-uses-ride-sharing-services.aspx), [The United States Census](https://www.census.gov/quickfacts/fact/table/newyorkcitynewyork/PST120221), and [Pew](https://www.pewresearch.org/fact-tank/2019/01/04/more-americans-are-using-ride-hailing-apps/#:~:text=Today%2C%2036%25%20of%20U.S.%20adults,heard%20of%20ride%2Dhailing%20before.). <br>\n",
    "\n",
    "These studies and surveys give us the percentage of the population that use ride sharing. These percentages were then parsed upon the total population of New York City to give us a rough estimate of the amount of total users per year that use Uber."
   ]
  },
  {
   "cell_type": "code",
   "execution_count": 38,
   "id": "f8cb175b",
   "metadata": {},
   "outputs": [
    {
     "name": "stdout",
     "output_type": "stream",
     "text": [
      "Total Uber Riders in New York: 3521676\n",
      "Total Number of Riders Aged 18 to 29: 594282\n",
      "Total Number of Riders Aged 30 to 49: 1141023\n",
      "Total Number of Riders Aged 50 to 64: 242995\n",
      "Total Number of Riders Aged 65+: 171681\n",
      "Total Number of Riders Making Over 75k a Year: 2862946\n",
      "\n"
     ]
    }
   ],
   "source": [
    "# Please note that the percentages will not add up to 100 percent given that minors under the age of 18 are excluded\n",
    "total_new_yorkers = 8804190\n",
    "\n",
    "# We use math.trunc to elimate the decimal value as we cannot have a partial amount of people. math.trunc() elimates the decimala and rounds the number to the nearest integer\n",
    "\n",
    "total_of_users = math.trunc((total_new_yorkers * 0.4)) # total number of New Yorkers that use uber\n",
    "total_18_29 = math.trunc((total_new_yorkers * 0.15) * (0.45)) # total number of New Yorkers that are 18 - 29\n",
    "total_30_49 = math.trunc((total_new_yorkers * 0.36) * (0.36))# total number of New Yorkers that are 30 - 49\n",
    "total_50_64 = math.trunc((total_new_yorkers * 0.12) * (0.23))# total number of New Yorkers that are 50 - 64\n",
    "total_over_65 = math.trunc((total_new_yorkers * 0.15) * (0.13))# total number of New Yorkers that are 65 +\n",
    "total_over_75k = math.trunc((total_new_yorkers * 0.458) * (0.71)) # total number of New Yorkers that make over 75k a year\n",
    "    \n",
    "stat_raw_totalnum = 'Total Uber Riders in New York: {}\\nTotal Number of Riders Aged 18 to 29: {}\\nTotal Number of Riders Aged 30 to 49: {}\\nTotal Number of Riders Aged 50 to 64: {}\\nTotal Number of Riders Aged 65+: {}\\nTotal Number of Riders Making Over 75k a Year: {}\\n'\n",
    "\n",
    "print(stat_raw_totalnum.format(total_of_users, total_18_29, total_30_49, total_50_64, total_over_65, total_over_75k))"
   ]
  },
  {
   "cell_type": "code",
   "execution_count": 39,
   "id": "d3dc5e70",
   "metadata": {},
   "outputs": [
    {
     "data": {
      "image/png": "[encoded data removed]",
      "text/plain": [
       "<Figure size 1000x800 with 1 Axes>"
      ]
     },
     "metadata": {},
     "output_type": "display_data"
    }
   ],
   "source": [
    "plt.figure(figsize = (10,8)) # setting the figure size\n",
    "x_percentage_of_pop = ['18 to 29', '30 to 49', '50 to 64', '65+'] # creating a list for our x labels\n",
    "y_percentage_of_pop = [total_18_29, total_30_49, total_50_64, total_over_65] # creating a list for our y labels\n",
    "seaborn_perc_barplot = sns.barplot(x = x_percentage_of_pop, y=y_percentage_of_pop) # plotting fucntion using seaborn lib\n",
    "seaborn_perc_barplot.set(ylim=(0, 1500000)) # setting range of y axis\n",
    "plt.ylabel('Number of Riders by Age (Millions)') # label for y axis\n",
    "plt.xlabel('Age of Demographic'); # label for x axis\n",
    "plt.title('Number of Riders in New York City by Age Group') # graph title\n",
    "plt.show()"
   ]
  },
  {
   "cell_type": "code",
   "execution_count": 40,
   "id": "04aee502",
   "metadata": {},
   "outputs": [
    {
     "ename": "ValueError",
     "evalue": "Length of Index vectors must match length of `data` when both are used, but `data` has length 4534327 and the vector passed to `x` has length 6.",
     "output_type": "error",
     "traceback": [
      "\u001b[0;31m---------------------------------------------------------------------------\u001b[0m",
      "\u001b[0;31mValueError\u001b[0m                                Traceback (most recent call last)",
      "Cell \u001b[0;32mIn[40], line 2\u001b[0m\n\u001b[1;32m      1\u001b[0m plt\u001b[38;5;241m.\u001b[39mfigure(figsize\u001b[38;5;241m=\u001b[39m(\u001b[38;5;241m10\u001b[39m,\u001b[38;5;241m8\u001b[39m))\n\u001b[0;32m----> 2\u001b[0m sns\u001b[38;5;241m.\u001b[39mbarplot(data\u001b[38;5;241m=\u001b[39mdf,x\u001b[38;5;241m=\u001b[39mdf\u001b[38;5;241m.\u001b[39mgroupby(\u001b[38;5;124m'\u001b[39m\u001b[38;5;124mMonth\u001b[39m\u001b[38;5;124m'\u001b[39m)[\u001b[38;5;124m'\u001b[39m\u001b[38;5;124mHour\u001b[39m\u001b[38;5;124m'\u001b[39m]\u001b[38;5;241m.\u001b[39mcount()\u001b[38;5;241m.\u001b[39mindex,y\u001b[38;5;241m=\u001b[39mdf\u001b[38;5;241m.\u001b[39mgroupby(\u001b[38;5;124m'\u001b[39m\u001b[38;5;124mMonth\u001b[39m\u001b[38;5;124m'\u001b[39m)[\u001b[38;5;124m'\u001b[39m\u001b[38;5;124mHour\u001b[39m\u001b[38;5;124m'\u001b[39m]\u001b[38;5;241m.\u001b[39mcount())\n\u001b[1;32m      3\u001b[0m plt\u001b[38;5;241m.\u001b[39mxticks(ticks\u001b[38;5;241m=\u001b[39m[\u001b[38;5;241m0\u001b[39m,\u001b[38;5;241m1\u001b[39m,\u001b[38;5;241m2\u001b[39m,\u001b[38;5;241m3\u001b[39m,\u001b[38;5;241m4\u001b[39m,\u001b[38;5;241m5\u001b[39m],labels\u001b[38;5;241m=\u001b[39m[\u001b[38;5;124m'\u001b[39m\u001b[38;5;124mApril\u001b[39m\u001b[38;5;124m'\u001b[39m,\u001b[38;5;124m'\u001b[39m\u001b[38;5;124mMay\u001b[39m\u001b[38;5;124m'\u001b[39m,\u001b[38;5;124m'\u001b[39m\u001b[38;5;124mJune\u001b[39m\u001b[38;5;124m'\u001b[39m,\u001b[38;5;124m'\u001b[39m\u001b[38;5;124mJuly\u001b[39m\u001b[38;5;124m'\u001b[39m,\u001b[38;5;124m'\u001b[39m\u001b[38;5;124mAugust\u001b[39m\u001b[38;5;124m'\u001b[39m,\u001b[38;5;124m'\u001b[39m\u001b[38;5;124mSeptember\u001b[39m\u001b[38;5;124m'\u001b[39m])\n\u001b[1;32m      4\u001b[0m plt\u001b[38;5;241m.\u001b[39mylabel(\u001b[38;5;124m'\u001b[39m\u001b[38;5;124mPickups in NYC (Millions)\u001b[39m\u001b[38;5;124m'\u001b[39m)\n",
      "File \u001b[0;32m~/anaconda3/lib/python3.11/site-packages/seaborn/categorical.py:2340\u001b[0m, in \u001b[0;36mbarplot\u001b[0;34m(data, x, y, hue, order, hue_order, estimator, errorbar, n_boot, seed, units, weights, orient, color, palette, saturation, fill, hue_norm, width, dodge, gap, log_scale, native_scale, formatter, legend, capsize, err_kws, ci, errcolor, errwidth, ax, **kwargs)\u001b[0m\n\u001b[1;32m   2337\u001b[0m \u001b[38;5;28;01mif\u001b[39;00m estimator \u001b[38;5;129;01mis\u001b[39;00m \u001b[38;5;28mlen\u001b[39m:\n\u001b[1;32m   2338\u001b[0m     estimator \u001b[38;5;241m=\u001b[39m \u001b[38;5;124m\"\u001b[39m\u001b[38;5;124msize\u001b[39m\u001b[38;5;124m\"\u001b[39m\n\u001b[0;32m-> 2340\u001b[0m p \u001b[38;5;241m=\u001b[39m _CategoricalAggPlotter(\n\u001b[1;32m   2341\u001b[0m     data\u001b[38;5;241m=\u001b[39mdata,\n\u001b[1;32m   2342\u001b[0m     variables\u001b[38;5;241m=\u001b[39m\u001b[38;5;28mdict\u001b[39m(x\u001b[38;5;241m=\u001b[39mx, y\u001b[38;5;241m=\u001b[39my, hue\u001b[38;5;241m=\u001b[39mhue, units\u001b[38;5;241m=\u001b[39munits, weight\u001b[38;5;241m=\u001b[39mweights),\n\u001b[1;32m   2343\u001b[0m     order\u001b[38;5;241m=\u001b[39morder,\n\u001b[1;32m   2344\u001b[0m     orient\u001b[38;5;241m=\u001b[39morient,\n\u001b[1;32m   2345\u001b[0m     color\u001b[38;5;241m=\u001b[39mcolor,\n\u001b[1;32m   2346\u001b[0m     legend\u001b[38;5;241m=\u001b[39mlegend,\n\u001b[1;32m   2347\u001b[0m )\n\u001b[1;32m   2349\u001b[0m \u001b[38;5;28;01mif\u001b[39;00m ax \u001b[38;5;129;01mis\u001b[39;00m \u001b[38;5;28;01mNone\u001b[39;00m:\n\u001b[1;32m   2350\u001b[0m     ax \u001b[38;5;241m=\u001b[39m plt\u001b[38;5;241m.\u001b[39mgca()\n",
      "File \u001b[0;32m~/anaconda3/lib/python3.11/site-packages/seaborn/categorical.py:66\u001b[0m, in \u001b[0;36m_CategoricalPlotter.__init__\u001b[0;34m(self, data, variables, order, orient, require_numeric, color, legend)\u001b[0m\n\u001b[1;32m     55\u001b[0m \u001b[38;5;28;01mdef\u001b[39;00m \u001b[38;5;21m__init__\u001b[39m(\n\u001b[1;32m     56\u001b[0m     \u001b[38;5;28mself\u001b[39m,\n\u001b[1;32m     57\u001b[0m     data\u001b[38;5;241m=\u001b[39m\u001b[38;5;28;01mNone\u001b[39;00m,\n\u001b[0;32m   (...)\u001b[0m\n\u001b[1;32m     63\u001b[0m     legend\u001b[38;5;241m=\u001b[39m\u001b[38;5;124m\"\u001b[39m\u001b[38;5;124mauto\u001b[39m\u001b[38;5;124m\"\u001b[39m,\n\u001b[1;32m     64\u001b[0m ):\n\u001b[0;32m---> 66\u001b[0m     \u001b[38;5;28msuper\u001b[39m()\u001b[38;5;241m.\u001b[39m\u001b[38;5;21m__init__\u001b[39m(data\u001b[38;5;241m=\u001b[39mdata, variables\u001b[38;5;241m=\u001b[39mvariables)\n\u001b[1;32m     68\u001b[0m     \u001b[38;5;66;03m# This method takes care of some bookkeeping that is necessary because the\u001b[39;00m\n\u001b[1;32m     69\u001b[0m     \u001b[38;5;66;03m# original categorical plots (prior to the 2021 refactor) had some rules that\u001b[39;00m\n\u001b[1;32m     70\u001b[0m     \u001b[38;5;66;03m# don't fit exactly into VectorPlotter logic. It may be wise to have a second\u001b[39;00m\n\u001b[0;32m   (...)\u001b[0m\n\u001b[1;32m     75\u001b[0m     \u001b[38;5;66;03m# default VectorPlotter rules. If we do decide to make orient part of the\u001b[39;00m\n\u001b[1;32m     76\u001b[0m     \u001b[38;5;66;03m# _base variable assignment, we'll want to figure out how to express that.\u001b[39;00m\n\u001b[1;32m     77\u001b[0m     \u001b[38;5;28;01mif\u001b[39;00m \u001b[38;5;28mself\u001b[39m\u001b[38;5;241m.\u001b[39minput_format \u001b[38;5;241m==\u001b[39m \u001b[38;5;124m\"\u001b[39m\u001b[38;5;124mwide\u001b[39m\u001b[38;5;124m\"\u001b[39m \u001b[38;5;129;01mand\u001b[39;00m orient \u001b[38;5;129;01min\u001b[39;00m [\u001b[38;5;124m\"\u001b[39m\u001b[38;5;124mh\u001b[39m\u001b[38;5;124m\"\u001b[39m, \u001b[38;5;124m\"\u001b[39m\u001b[38;5;124my\u001b[39m\u001b[38;5;124m\"\u001b[39m]:\n",
      "File \u001b[0;32m~/anaconda3/lib/python3.11/site-packages/seaborn/_base.py:634\u001b[0m, in \u001b[0;36mVectorPlotter.__init__\u001b[0;34m(self, data, variables)\u001b[0m\n\u001b[1;32m    629\u001b[0m \u001b[38;5;66;03m# var_ordered is relevant only for categorical axis variables, and may\u001b[39;00m\n\u001b[1;32m    630\u001b[0m \u001b[38;5;66;03m# be better handled by an internal axis information object that tracks\u001b[39;00m\n\u001b[1;32m    631\u001b[0m \u001b[38;5;66;03m# such information and is set up by the scale_* methods. The analogous\u001b[39;00m\n\u001b[1;32m    632\u001b[0m \u001b[38;5;66;03m# information for numeric axes would be information about log scales.\u001b[39;00m\n\u001b[1;32m    633\u001b[0m \u001b[38;5;28mself\u001b[39m\u001b[38;5;241m.\u001b[39m_var_ordered \u001b[38;5;241m=\u001b[39m {\u001b[38;5;124m\"\u001b[39m\u001b[38;5;124mx\u001b[39m\u001b[38;5;124m\"\u001b[39m: \u001b[38;5;28;01mFalse\u001b[39;00m, \u001b[38;5;124m\"\u001b[39m\u001b[38;5;124my\u001b[39m\u001b[38;5;124m\"\u001b[39m: \u001b[38;5;28;01mFalse\u001b[39;00m}  \u001b[38;5;66;03m# alt., used DefaultDict\u001b[39;00m\n\u001b[0;32m--> 634\u001b[0m \u001b[38;5;28mself\u001b[39m\u001b[38;5;241m.\u001b[39massign_variables(data, variables)\n\u001b[1;32m    636\u001b[0m \u001b[38;5;66;03m# TODO Lots of tests assume that these are called to initialize the\u001b[39;00m\n\u001b[1;32m    637\u001b[0m \u001b[38;5;66;03m# mappings to default values on class initialization. I'd prefer to\u001b[39;00m\n\u001b[1;32m    638\u001b[0m \u001b[38;5;66;03m# move away from that and only have a mapping when explicitly called.\u001b[39;00m\n\u001b[1;32m    639\u001b[0m \u001b[38;5;28;01mfor\u001b[39;00m var \u001b[38;5;129;01min\u001b[39;00m [\u001b[38;5;124m\"\u001b[39m\u001b[38;5;124mhue\u001b[39m\u001b[38;5;124m\"\u001b[39m, \u001b[38;5;124m\"\u001b[39m\u001b[38;5;124msize\u001b[39m\u001b[38;5;124m\"\u001b[39m, \u001b[38;5;124m\"\u001b[39m\u001b[38;5;124mstyle\u001b[39m\u001b[38;5;124m\"\u001b[39m]:\n",
      "File \u001b[0;32m~/anaconda3/lib/python3.11/site-packages/seaborn/_base.py:679\u001b[0m, in \u001b[0;36mVectorPlotter.assign_variables\u001b[0;34m(self, data, variables)\u001b[0m\n\u001b[1;32m    674\u001b[0m \u001b[38;5;28;01melse\u001b[39;00m:\n\u001b[1;32m    675\u001b[0m     \u001b[38;5;66;03m# When dealing with long-form input, use the newer PlotData\u001b[39;00m\n\u001b[1;32m    676\u001b[0m     \u001b[38;5;66;03m# object (internal but introduced for the objects interface)\u001b[39;00m\n\u001b[1;32m    677\u001b[0m     \u001b[38;5;66;03m# to centralize / standardize data consumption logic.\u001b[39;00m\n\u001b[1;32m    678\u001b[0m     \u001b[38;5;28mself\u001b[39m\u001b[38;5;241m.\u001b[39minput_format \u001b[38;5;241m=\u001b[39m \u001b[38;5;124m\"\u001b[39m\u001b[38;5;124mlong\u001b[39m\u001b[38;5;124m\"\u001b[39m\n\u001b[0;32m--> 679\u001b[0m     plot_data \u001b[38;5;241m=\u001b[39m PlotData(data, variables)\n\u001b[1;32m    680\u001b[0m     frame \u001b[38;5;241m=\u001b[39m plot_data\u001b[38;5;241m.\u001b[39mframe\n\u001b[1;32m    681\u001b[0m     names \u001b[38;5;241m=\u001b[39m plot_data\u001b[38;5;241m.\u001b[39mnames\n",
      "File \u001b[0;32m~/anaconda3/lib/python3.11/site-packages/seaborn/_core/data.py:58\u001b[0m, in \u001b[0;36mPlotData.__init__\u001b[0;34m(self, data, variables)\u001b[0m\n\u001b[1;32m     51\u001b[0m \u001b[38;5;28;01mdef\u001b[39;00m \u001b[38;5;21m__init__\u001b[39m(\n\u001b[1;32m     52\u001b[0m     \u001b[38;5;28mself\u001b[39m,\n\u001b[1;32m     53\u001b[0m     data: DataSource,\n\u001b[1;32m     54\u001b[0m     variables: \u001b[38;5;28mdict\u001b[39m[\u001b[38;5;28mstr\u001b[39m, VariableSpec],\n\u001b[1;32m     55\u001b[0m ):\n\u001b[1;32m     57\u001b[0m     data \u001b[38;5;241m=\u001b[39m handle_data_source(data)\n\u001b[0;32m---> 58\u001b[0m     frame, names, ids \u001b[38;5;241m=\u001b[39m \u001b[38;5;28mself\u001b[39m\u001b[38;5;241m.\u001b[39m_assign_variables(data, variables)\n\u001b[1;32m     60\u001b[0m     \u001b[38;5;28mself\u001b[39m\u001b[38;5;241m.\u001b[39mframe \u001b[38;5;241m=\u001b[39m frame\n\u001b[1;32m     61\u001b[0m     \u001b[38;5;28mself\u001b[39m\u001b[38;5;241m.\u001b[39mnames \u001b[38;5;241m=\u001b[39m names\n",
      "File \u001b[0;32m~/anaconda3/lib/python3.11/site-packages/seaborn/_core/data.py:251\u001b[0m, in \u001b[0;36mPlotData._assign_variables\u001b[0;34m(self, data, variables)\u001b[0m\n\u001b[1;32m    245\u001b[0m         val_cls \u001b[38;5;241m=\u001b[39m val\u001b[38;5;241m.\u001b[39m\u001b[38;5;18m__class__\u001b[39m\u001b[38;5;241m.\u001b[39m\u001b[38;5;18m__name__\u001b[39m\n\u001b[1;32m    246\u001b[0m         err \u001b[38;5;241m=\u001b[39m (\n\u001b[1;32m    247\u001b[0m             \u001b[38;5;124mf\u001b[39m\u001b[38;5;124m\"\u001b[39m\u001b[38;5;124mLength of \u001b[39m\u001b[38;5;132;01m{\u001b[39;00mval_cls\u001b[38;5;132;01m}\u001b[39;00m\u001b[38;5;124m vectors must match length of `data`\u001b[39m\u001b[38;5;124m\"\u001b[39m\n\u001b[1;32m    248\u001b[0m             \u001b[38;5;124mf\u001b[39m\u001b[38;5;124m\"\u001b[39m\u001b[38;5;124m when both are used, but `data` has length \u001b[39m\u001b[38;5;132;01m{\u001b[39;00m\u001b[38;5;28mlen\u001b[39m(data)\u001b[38;5;132;01m}\u001b[39;00m\u001b[38;5;124m\"\u001b[39m\n\u001b[1;32m    249\u001b[0m             \u001b[38;5;124mf\u001b[39m\u001b[38;5;124m\"\u001b[39m\u001b[38;5;124m and the vector passed to `\u001b[39m\u001b[38;5;132;01m{\u001b[39;00mkey\u001b[38;5;132;01m}\u001b[39;00m\u001b[38;5;124m` has length \u001b[39m\u001b[38;5;132;01m{\u001b[39;00m\u001b[38;5;28mlen\u001b[39m(val)\u001b[38;5;132;01m}\u001b[39;00m\u001b[38;5;124m.\u001b[39m\u001b[38;5;124m\"\u001b[39m\n\u001b[1;32m    250\u001b[0m         )\n\u001b[0;32m--> 251\u001b[0m         \u001b[38;5;28;01mraise\u001b[39;00m \u001b[38;5;167;01mValueError\u001b[39;00m(err)\n\u001b[1;32m    253\u001b[0m plot_data[key] \u001b[38;5;241m=\u001b[39m val\n\u001b[1;32m    255\u001b[0m \u001b[38;5;66;03m# Try to infer the original name using pandas-like metadata\u001b[39;00m\n",
      "\u001b[0;31mValueError\u001b[0m: Length of Index vectors must match length of `data` when both are used, but `data` has length 4534327 and the vector passed to `x` has length 6."
     ]
    },
    {
     "data": {
      "text/plain": [
       "<Figure size 1000x800 with 0 Axes>"
      ]
     },
     "metadata": {},
     "output_type": "display_data"
    }
   ],
   "source": [
    "plt.figure(figsize=(10,8))\n",
    "sns.barplot(data=df,x=df.groupby('Month')['Hour'].count().index,y=df.groupby('Month')['Hour'].count())\n",
    "plt.xticks(ticks=[0,1,2,3,4,5],labels=['April','May','June','July','August','September'])\n",
    "plt.ylabel('Pickups in NYC (Millions)')\n",
    "plt.title('Number of Uber Pickups by Month')\n",
    "plt.show()"
   ]
  },
  {
   "cell_type": "markdown",
   "id": "dda55d62",
   "metadata": {},
   "source": [
    "New York has long been known to be busiest during its [summer months](https://www.headout.com/blog/best-time-to-visit-new-york/#:~:text=The%20busiest%20times%20of%20year,the%20city%20has%20to%20offer.) and this infomation correlated with our ridership numbers throughout the summer. Summer time it is typically expected that many tourists and relatives of New York City residents will travel to the city. <br>\n",
    "\n",
    "For business, this means that they can expect to see a greater volume of individuals and should increase their stock on popular summer items. More important, there any many business that primarily operate in the summer time. For example, New York City in the summer time is froth with Ice Cream trucks and small vendors selling ice cold water. This is also important for business that expereince a good amount of typical foot traffic in the city, such as areas surrounding parks and attractions. Some example would be business and establishments near, Central Park, Washington Square Park, The Brooklyn Bridge, The MET, The Museum of Natural History, and of course, Time Square."
   ]
  },
  {
   "cell_type": "code",
   "execution_count": null,
   "id": "33adc31b",
   "metadata": {
    "scrolled": false
   },
   "outputs": [],
   "source": [
    "weekday_pickups = df['Weekday'].value_counts()[weekday_map.values()]\n",
    "\n",
    "weekday_pickups.plot(kind='bar', rot=0, color = 'blue', edgecolor = 'black')\n",
    "plt.title('Uber Pickups Per Weekday')\n",
    "plt.xlabel('Weekday')\n",
    "plt.ylabel('Pickups by Day of the Week');"
   ]
  },
  {
   "cell_type": "markdown",
   "id": "0e8794f4",
   "metadata": {},
   "source": [
    "Uber ridership tends to spike as we approach the weekend. This data is consistent with [research](https://www.nerdwallet.com/article/travel/flying-for-christmas-best-days#:~:text=Most%20weeks%20of%20the%20year,23.) done that tracks what days are the busiest travel days. This most likely has to do with the prevelance of weekend travel, especially among young adults that typically use Uber regualarly."
   ]
  },
  {
   "cell_type": "code",
   "execution_count": null,
   "id": "7ea333f4",
   "metadata": {},
   "outputs": [],
   "source": [
    "monthly_weekdays = df.groupby('Month')['Weekday'].value_counts().unstack()\n",
    "monthly_weekdays_norm = monthly_weekdays.apply(lambda x: x/x.sum(), axis=1)\n",
    "\n",
    "monthly_weekdays_norm.loc[month_map.values(),weekday_map.values()].plot(kind='bar', rot=0, edgecolor = 'black')\n",
    "plt.ylabel('Proportion of Pickups')\n",
    "plt.title('Uber Pickups by Month and Day of the Week');"
   ]
  },
  {
   "cell_type": "markdown",
   "id": "7cfe5ea3",
   "metadata": {},
   "source": [
    "Ridership of Uber is often typically affect by two major aspects in the offseason. Riders to and from work / school, and riders going out in the evenings for dinner or to bar / clubs. What we can see by this chart is a more consistent ridership each day throughout the summer months regardless of the day of the week. There is a much closer correlation. <br>\n",
    "\n",
    "The implications of which is that time of day specialized business, such as coffee shops and bars, may see the potential for greater profits by operating for extended hours in the summer months."
   ]
  },
  {
   "cell_type": "code",
   "execution_count": null,
   "id": "f272f7c9",
   "metadata": {},
   "outputs": [],
   "source": [
    "plt.figure(figsize=(20,10))\n",
    "sns.barplot(data=df,x=df.groupby('Day')['Hour'].count().index,y=df.groupby('Day')['Hour'].count())\n",
    "plt.ylabel('Number of Riders by the hour in our Entire Data Frame')\n",
    "plt.xlabel('Day of the Month')\n",
    "plt.title('Ridership by Day of the Month')\n",
    "plt.show()"
   ]
  },
  {
   "cell_type": "markdown",
   "id": "ed62e9cf",
   "metadata": {},
   "source": [
    "The bar graph above outputs the total ridership on each day of the month. It is important to note that we should exclude the 31st from this analysis given that not every month in our dataframe has a 31st day of the month."
   ]
  },
  {
   "cell_type": "code",
   "execution_count": null,
   "id": "6ae0832b",
   "metadata": {},
   "outputs": [],
   "source": [
    "plt.figure(figsize = (20,10)) # setting figure size\n",
    "daily_pickups = df.groupby(['Month', 'Day'])['Hour'].count()[month_map.values()]\n",
    "daily_pickups.plot(kind='line', rot=0, color = 'black')\n",
    "month_starts = np.where(daily_pickups.reset_index(level=0, drop=True).index.get_loc(1))[0]\n",
    "plt.xticks(ticks=month_starts, labels=month_map.values())\n",
    "plt.ylabel('Total Number of Pickups')\n",
    "plt.title('Number of Pickups Each Day');"
   ]
  },
  {
   "cell_type": "markdown",
   "id": "f3237770",
   "metadata": {},
   "source": [
    "The purpose of a line graph in this median is to track trends. A line graph is also commonly used when looking at graphs for the stock market. The reason behind this is that it can show over market trends. For instance, by visualizing the highs and lows of the line graph, we can see clearly that as we approach the summer, the overall trend become greater. <br>\n",
    "\n",
    "This graph greatly works in collaboriation with our previous bar graph. We can see from July onward, each day, there is a greater concentration of uber ridership. There are more total rides, yes, but there is also most cinsistent reidership throughout the day. This can often be attributed to greater tourism in the city, as well as more people going out at all times of the day across New York City."
   ]
  },
  {
   "cell_type": "code",
   "execution_count": null,
   "id": "91fc9dce",
   "metadata": {},
   "outputs": [],
   "source": [
    "holidays = {\n",
    "    \"Easter\": ('April', 20), # Sunday\n",
    "    \"Mother's Day\": ('May', 11), # Sunday\n",
    "    \"Memorial Day\": ('May', 26), # Monday\n",
    "    \"Father's Day\": ('June', 15), # Sunday\n",
    "    \"Independence Day\": ('July', 4), # Friday\n",
    "    \"Labor Day\": ('September', 1) # Monday\n",
    "}\n",
    "\n",
    "holiday_starts = [daily_pickups.index.get_loc(hol) for hol in holidays.values()]\n",
    "colors = ['grey' if x not in holiday_starts else 'red' for x in range(len(daily_pickups))] #setting the colors of our graph to highlight the specified holidays\n",
    "\n",
    "daily_pickups.plot(kind='bar', color=colors, rot=0)\n",
    "plt.xticks(ticks=holiday_starts, labels=holidays.keys())\n",
    "plt.xlabel('Holiday') #label of x axis\n",
    "plt.ylabel('# Pickups') #label of y axis\n",
    "plt.title('Holiday Daily Pickups'); # graph title\n",
    "plt.show()"
   ]
  },
  {
   "cell_type": "markdown",
   "id": "d1c7325c",
   "metadata": {},
   "source": [
    "Holidays are often statistical anomalies when it comes to such data as this. As we can see in the graph above, holidays there is substantially fewer riders on the holidays that are applicable in our data. <br>\n",
    "\n",
    "This is imporatant to understand. Holidays typically tend to have individuals [spending more money](https://www.cnbc.com/2022/12/08/how-much-americans-may-spend-on-the-holidays.html) than they otherwise would do. This is imporatnt to understand for business. For instance, a bakery may want to be open on mothers day, however, it tends not to be a big spending day for business that rely heavily on foot traffic such as shops in malls. This is congruent with our data that shows less movement on hoidays. This is why you will often times seen retail stores closed on Christmas, but open on Thanksgiving day.\n"
   ]
  },
  {
   "cell_type": "code",
   "execution_count": null,
   "id": "1c51eb32",
   "metadata": {},
   "outputs": [],
   "source": [
    "hourly_pickups = df['Hour'].value_counts().sort_index()\n",
    "\n",
    "hourly_pickups.plot(kind='bar', rot=0, color = 'blue', edgecolor='black')\n",
    "plt.xlabel('Hour')\n",
    "plt.ylabel('# Pickups')\n",
    "plt.title('Pickups by Hour of Day');"
   ]
  },
  {
   "cell_type": "markdown",
   "id": "8165ac91",
   "metadata": {},
   "source": [
    "We discussed earlier how one of the peak times of ridership tends to be during rush hour. The above bar chart shows that on any given day in our data frame, peak ridership for the day occurs between 3 pm and 10 pm. With the absolute peak being 5 pm. This makes sense given that many people work 9-5 jobs. \n"
   ]
  },
  {
   "cell_type": "code",
   "execution_count": null,
   "id": "4088dc82",
   "metadata": {},
   "outputs": [],
   "source": [
    "# We create a function plot_subplots that plots graphs for each corresponding month. It creates a 'subplot'\n",
    "# meaning that there are actually individual plots for each month.\n",
    "\n",
    "def plot_subplots(df, var_name, var_values, figsize, dim):\n",
    "    \"\"\"\n",
    "    Helper function\n",
    "    \n",
    "    Plots subplots for a given variable (Month, Weekday) by Hour\n",
    "    \n",
    "    Definition for each parameter in the function\n",
    "    \n",
    "    df: DataFrame containing Uber pickups\n",
    "    var_name: Name of the variable in 'df'\n",
    "    var_values: List of variable values\n",
    "    figsize: Tuple contianing figure size\n",
    "    dim: List containing the dimension of subplots\n",
    "    \"\"\"\n",
    "    \n",
    "    # Figure layout\n",
    "    fig = plt.figure(figsize=figsize)\n",
    "    fig.subplots_adjust(hspace=0.4, wspace=0.2)\n",
    "    \n",
    "    # Generate plot\n",
    "    plot_num = 1\n",
    "    for value in var_values:\n",
    "        ax = fig.add_subplot(dim[0], dim[1], plot_num)\n",
    "        value_df = df[df[var_name] == value]\n",
    "        plot = (\n",
    "            value_df['Hour']\n",
    "            .value_counts(normalize=True)\n",
    "            .sort_index()\n",
    "            .plot(kind='bar', ax=ax, rot=0)\n",
    "        )\n",
    "        plt.title(value)\n",
    "        plt.xlabel('Hour')\n",
    "        plt.ylabel('Proportion of pickups')\n",
    "        plot_num +=1"
   ]
  },
  {
   "cell_type": "code",
   "execution_count": null,
   "id": "38aa045e",
   "metadata": {},
   "outputs": [],
   "source": [
    "plot_subplots(df, 'Month', month_map.values(), (16, 7), [2, 3])"
   ]
  },
  {
   "cell_type": "code",
   "execution_count": null,
   "id": "79a0b982",
   "metadata": {},
   "outputs": [],
   "source": [
    "plot_subplots(df, 'Weekday', weekday_map.values(), (16, 10), [3, 3])"
   ]
  },
  {
   "cell_type": "code",
   "execution_count": null,
   "id": "a345e808",
   "metadata": {},
   "outputs": [],
   "source": [
    "pickups_focused = df[\n",
    "    df['Lon'].between(-74.25, -73.75) & \n",
    "    df['Lat'].between(40.5, 41)\n",
    "]\n",
    "print('Number of Pickups in our Data Set: {}'.format(len(pickups_focused)))\n",
    "\n",
    "pickup_points = ds.Canvas().points(pickups_focused, 'Lon', 'Lat', )\n",
    "ds.tf.set_background(ds.tf.shade(pickup_points, cmap=cc.coolwarm), \"white\")\n",
    "\n",
    "#change .coolwarm to .rainbow, .fire, .bmw, .colorwheel, .isolum for different color schemes !\n",
    "#We chose .coolwarm for its readability"
   ]
  },
  {
   "cell_type": "markdown",
   "id": "f290809b",
   "metadata": {},
   "source": [
    "### Heat Map Analysis and the Implications of Genetrification in New York City\n"
   ]
  },
  {
   "cell_type": "markdown",
   "id": "e81c3029",
   "metadata": {},
   "source": [
    "Every ten years the United States conducts a census, the purpose of the census is to count every person living in the United States. This count is often broken up in countries, and census populations can greatly affect federal funding and more importantly, the number of congresisonal disctricts a state has, and by virtue, the number of total repersentatives in the United States House of Repersentatives. <br>\n",
    "\n",
    "[New York City](https://en.wikipedia.org/wiki/Boroughs_of_New_York_City) is comprised of 5 borough, each having their own county, and as such, the census is an accurate method for determining the residents of each borough. New York City contains the boroughs of Manhattan (New York County), The Bronx (Bronx County), Queens (Queen's County), Brooklyn (King's County), and Staten Island (Richmond County). <br>\n",
    "\n",
    "The most recent census, in 2020 showed a sharp increase in the population of [Brooklyn, NY](https://bklyner.com/brooklyn-census-2020/). The study found that in the decade since the previous census, in 2010, there was a 231k increase in residents, this is a 9.3% jump. This is compared to the overall population increase of [New York City](https://www.manhattan-institute.org/kober-new-york-city-2020-census-data#:~:text=Confounding%20the%20U.S.%20Census%20Bureau's,enumerated%20population%20increased%20by%20686%2C000.) during the same time period of 661k. Meaning that Brooklyn inherited more than 34% of the total population gain of New York City while only repersenting less than 30% of the total population of New York City. <br>\n",
    "\n",
    "It is no wonder why New Yorkers and outside observers typically speak of Brooklyn being one of the most popular destinations for new residents of New York City to move to. This brings into context as well, the overall understanding and sediment of the [gentrification](https://link.springer.com/article/10.1007/s12111-020-09499-y) of areas of northern Brooklyn, the areas closest to Manhattan. <br>\n",
    "\n",
    "What is unique however about understanding information such as this, is that gentrification, while froth with its issue on racial matters, and the rising prices of homes in New York City, it is a unique business opportunity for certain types of profitable business. [For example](https://4legalleads.com/blog/how-gentrification-affects-small-businesses/), genertrification tends to bring in new residents that are much more likely to have disposible incomes. What this means is that for developers and home owners alike, they will see an increase in property values. Another sad aspect of genertrification is that small business tend to suffer. This however does pave the way for premium, and typically \"white\" businesses to flourish with a concentration of new residents that appeciate and enjoy their products. A great example of this would be Whole Foods, Starbucks, Chipotle. Other examples being expensive gyms like Equinox. <br>\n",
    "\n",
    "The analytical portion of the heat map that is extremely important is to look for the outliars, the parts that are near populated, and genetrified areas near Brooklyn and Queens. We see a slow trail leading our of those neighborhoods and moving even further away from the city. As home prices continue to increase in those parts of the Brooklyn and Queens, other parts of those boroughs will also contiunue to see a rise in population, and these are key metrics for certain business oppurtunites. As we have mentioned, Uber ridership is synamous with young, typically white population groups and therefore, tailoring a business model towards a changing demographic is important to the profitablity of companies."
   ]
  },
  {
   "cell_type": "code",
   "execution_count": null,
   "id": "895a49d4",
   "metadata": {},
   "outputs": [],
   "source": [
    "sns.pointplot(data=df,x='Hour',y='Lat',hue='Weekday')\n",
    "plt.title('Hours of Day vs. Latitude of Passenger')\n",
    "plt.show()"
   ]
  },
  {
   "cell_type": "markdown",
   "id": "81868f1b",
   "metadata": {},
   "source": [
    "Above we chose to map latitude and the hour of the day. We reason we chose to map latitude simply has to do with the fact that the largest concentrations of Uber riders occurs on the island of manhattan. In additon, most neighborhoods are broken up on a north to south basis. <br>\n",
    "\n",
    "From here we can identify that During certain key areas, we can distinguish much higher ridership in a certain cooridinate range. What this means is that this area is much more likely to have young people, most likely people that are gentrifying that respective neighborhood. Therefore, for certain business, there is a positive benefit if there were to have this information."
   ]
  },
  {
   "cell_type": "markdown",
   "id": "262547fe",
   "metadata": {},
   "source": [
    "### Conclusion"
   ]
  },
  {
   "cell_type": "markdown",
   "id": "9522c823",
   "metadata": {},
   "source": [
    "In todays age, our society is built upon data. Many news outlets, including [Forbes](https://www.forbes.com/sites/forbestechcouncil/2019/11/15/data-is-the-new-oil-and-thats-a-good-thing/?sh=58c377de7304) and [The Wire](https://www.wired.com/insights/2014/07/data-new-oil-digital-economy/) have called data the new oil. To understand why this is the case it is integral to understand why Data is so crucial and valuable to business. Much like Rockefeller's standard oil, data is a new frontier, full of prosperious opputunity. <br>\n",
    "\n",
    "Nearly every company collects data on their users and there is a reason why such data is powerful. What was illistrated through this model was the simply connection you can make with a limited data set that can empower a business into future endeavors, of which, can be extremely lucrative. What goes beyond this is that it doesn't take an individual with a PHD to understand the data in front of them if it is accurately displayed, and properly cleansed. <br>\n",
    "\n",
    "To continue on this point, this data was not collected by Uber technically, rather a government agency that had no intention of using this for profitable private business endeavors. What this shows is the power of data and how seemingly innocously collect data can be used.<br>\n",
    "\n",
    "Several points were draw from this data. The points that were made served the purpose of intially understanding the data so that accurate and repersentative conclusions could be made later on. <br>\n",
    "\n",
    "When analyzing data frames as an outsider, it is uncommon to also have locational data. The power of locational data, especially in a place such as New York City served as a catylst for this project. It is what initially drew me to this project. <br>\n",
    "\n",
    "I have learned many new aspects of managing data and data frames that I did not know up until this point. In particular, I built upon certain aspects I have previously learned such as working with pandas, numpy, seaborn, and mathplotlib. However, there were new libraries I also had to learn how to use. In addition, the necessary documentation in order to map the cooridinates in the data frame. <br>\n",
    "\n",
    "Overall, this project challenged my ability, and made me look at the importance of understanding data in a different light. It has made me curious about what could be done with larger and more refined data sets and how much more there is for me to learn. I feel that this project took me not only out of my comfort zone but forced me to learn on my own independently. As my first 'Independent Studies' course it has made me realize aspects of my own learning style that I will continue to build upon and hopefully use in my Career after FDU. <br>"
   ]
  },
  {
   "cell_type": "markdown",
   "id": "975085fd",
   "metadata": {},
   "source": [
    "### Additional 'Analysis'"
   ]
  },
  {
   "cell_type": "markdown",
   "id": "43160c42",
   "metadata": {},
   "source": [
    "The purpose of this additional analysis is to demostrate the vast increase in Uber ridership over the last 7 years. The T&LC releases monthly ridership numbers. In their .csv Uber and Lyft riders are combined under the License Class 'FHV - High Volume'. Therefore, because of this it is not possible to get an exact comparison to our initial Uber data. However, what is interesting to see is how much greater the monthly ridership numbers are not while compared to in 2014."
   ]
  },
  {
   "cell_type": "code",
   "execution_count": null,
   "id": "b3c02734",
   "metadata": {},
   "outputs": [],
   "source": [
    "df_rideshare = pd.read_csv('data_reports_monthly.csv')\n",
    "\n",
    "df_rideshare.head(2)"
   ]
  },
  {
   "cell_type": "code",
   "execution_count": null,
   "id": "f5275c06",
   "metadata": {},
   "outputs": [],
   "source": [
    "# dropping all unneccessary rows\n",
    "df_rideshare = df_rideshare[df_rideshare['License Class'] != 'Yellow']\n",
    "df_rideshare = df_rideshare[df_rideshare['License Class'] != 'Green']\n",
    "df_rideshare = df_rideshare[df_rideshare['License Class'] != 'FHV - Livery']\n",
    "df_rideshare = df_rideshare[df_rideshare['License Class'] != 'FHV - Lux Limo']\n",
    "df_rideshare = df_rideshare[df_rideshare['License Class'] != 'FHV - Black Car']\n",
    "\n",
    "df_rideshare.head(5)"
   ]
  },
  {
   "cell_type": "markdown",
   "id": "d5acf13a",
   "metadata": {},
   "source": [
    "In row 12 we see that there were $554361$ daily trips in NYC. If we multiply this by the amount of days in August, 31, we get $17185191$ total rides in the month of August. If we are to compare this the amount of riders in August of 2014, there were approximately $650000$ rides in the entire month. Meaning that in just one day, there were almost as many rides as there was in an entire month 7 years prior. While this data set is incomplete. There is greater analysis potential here given the right data. <br>\n",
    "\n",
    "A more complete Uber data set could provide us with much more accurate analysis in order to track movement over the entirety on the New York City metro area. In a data set of this scale, we could have had a much vaster analysis given the amount of data points in this dataframe vs. the original we worked with."
   ]
  }
 ],
 "metadata": {
  "kernelspec": {
   "display_name": "Python 3 (ipykernel)",
   "language": "python",
   "name": "python3"
  },
  "language_info": {
   "codemirror_mode": {
    "name": "ipython",
    "version": 3
   },
   "file_extension": ".py",
   "mimetype": "text/x-python",
   "name": "python",
   "nbconvert_exporter": "python",
   "pygments_lexer": "ipython3",
   "version": "3.11.4"
  }
 },
 "nbformat": 4,
 "nbformat_minor": 5
}
